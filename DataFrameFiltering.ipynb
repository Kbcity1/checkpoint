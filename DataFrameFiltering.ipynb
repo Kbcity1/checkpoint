{
  "nbformat": 4,
  "nbformat_minor": 0,
  "metadata": {
    "colab": {
      "provenance": [],
      "authorship_tag": "ABX9TyNGxM5EZEwxMGV4SGqguhSj",
      "include_colab_link": true
    },
    "kernelspec": {
      "name": "python3",
      "display_name": "Python 3"
    },
    "language_info": {
      "name": "python"
    }
  },
  "cells": [
    {
      "cell_type": "markdown",
      "metadata": {
        "id": "view-in-github",
        "colab_type": "text"
      },
      "source": [
        "<a href=\"https://colab.research.google.com/github/Kbcity1/checkpoint/blob/master/DataFrameFiltering.ipynb\" target=\"_parent\"><img src=\"https://colab.research.google.com/assets/colab-badge.svg\" alt=\"Open In Colab\"/></a>"
      ]
    },
    {
      "cell_type": "markdown",
      "source": [
        "Instructions\n",
        "\n",
        "Use the iloc method to select the first 3 rows of the dataframe.\n",
        "\n",
        "Use the loc method to select all rows where the Department is \"Marketing\".\n",
        "\n",
        "Use the iloc method to select the Age and Gender columns for the first 4 rows of the dataframe.\n",
        "\n",
        "Use the loc method to select the Salary and Experience columns for all rows where the Gender is \"Male\".\n",
        "\n"
      ],
      "metadata": {
        "id": "5qGkjpn_63HZ"
      }
    },
    {
      "cell_type": "code",
      "execution_count": 2,
      "metadata": {
        "colab": {
          "base_uri": "https://localhost:8080/"
        },
        "id": "yqvAr9ROMjpt",
        "outputId": "ed5aefce-344b-4e3f-fb6c-dbf290b7b810"
      },
      "outputs": [
        {
          "output_type": "stream",
          "name": "stdout",
          "text": [
            "    Name Department  Age  Gender  Salary  Experience\n",
            "0   John         IT   30    Male   50000           3\n",
            "1   Mary  Marketing   40  Female   60000           7\n",
            "2    Bob      Sales   25    Male   45000           2\n",
            "3  Sarah         IT   35  Female   55000           5\n",
            "4    Tom    Finance   45    Male   70000          10\n",
            "5   Lisa  Marketing   28  Female   55000           4\n"
          ]
        }
      ],
      "source": [
        "import pandas as pd\n",
        "\n",
        "data = {'Name': ['John', 'Mary', 'Bob', 'Sarah', 'Tom', 'Lisa'], 'Department': ['IT', 'Marketing', 'Sales', 'IT', 'Finance', 'Marketing'], 'Age': [30, 40, 25, 35, 45, 28], 'Gender': ['Male', 'Female', 'Male', 'Female', 'Male', 'Female'], 'Salary': [50000, 60000, 45000, 55000, 70000, 55000], 'Experience': [3, 7, 2, 5, 10, 4]}\n",
        "\n",
        "employee_df = pd.DataFrame(data)\n",
        "print(employee_df)"
      ]
    },
    {
      "cell_type": "code",
      "source": [
        "import pandas as pd\n",
        "firstThreeData = employee_df.iloc[:3]\n",
        "print(firstThreeData)"
      ],
      "metadata": {
        "colab": {
          "base_uri": "https://localhost:8080/"
        },
        "id": "JUieDjbBM8ZG",
        "outputId": "8bbeee80-0f50-44f9-c674-cb75819ba4c4"
      },
      "execution_count": 3,
      "outputs": [
        {
          "output_type": "stream",
          "name": "stdout",
          "text": [
            "   Name Department  Age  Gender  Salary  Experience\n",
            "0  John         IT   30    Male   50000           3\n",
            "1  Mary  Marketing   40  Female   60000           7\n",
            "2   Bob      Sales   25    Male   45000           2\n"
          ]
        }
      ]
    },
    {
      "cell_type": "code",
      "source": [
        "import pandas as pd\n",
        "Maekerting_dept = employee_df.loc[employee_df['Department'] == 'Marketing']\n",
        "print(Maekerting_dept)"
      ],
      "metadata": {
        "colab": {
          "base_uri": "https://localhost:8080/"
        },
        "id": "O777uW8KONC3",
        "outputId": "629d4072-89df-4466-dea2-5967e2a59044"
      },
      "execution_count": 4,
      "outputs": [
        {
          "output_type": "stream",
          "name": "stdout",
          "text": [
            "   Name Department  Age  Gender  Salary  Experience\n",
            "1  Mary  Marketing   40  Female   60000           7\n",
            "5  Lisa  Marketing   28  Female   55000           4\n"
          ]
        }
      ]
    },
    {
      "cell_type": "code",
      "source": [
        "import pandas as pd\n",
        "AgeGender_firstfour = employee_df.iloc[0:4, 2:4]\n",
        "print(AgeGender_firstfour)"
      ],
      "metadata": {
        "colab": {
          "base_uri": "https://localhost:8080/"
        },
        "id": "jia3bxO8PVaj",
        "outputId": "790be10c-d87a-489f-fdaf-a2a9f6cabd8b"
      },
      "execution_count": 7,
      "outputs": [
        {
          "output_type": "stream",
          "name": "stdout",
          "text": [
            "   Age  Gender\n",
            "0   30    Male\n",
            "1   40  Female\n",
            "2   25    Male\n",
            "3   35  Female\n"
          ]
        }
      ]
    },
    {
      "cell_type": "code",
      "source": [
        "import pandas as pd\n",
        "SalaryExperience_Male = employee_df.loc[(employee_df['Gender'] == 'Male') |(employee_df['Experience'] == 'Experience')]\n",
        "print(SalaryExperience_Male)"
      ],
      "metadata": {
        "colab": {
          "base_uri": "https://localhost:8080/"
        },
        "id": "fdUAn1j041yj",
        "outputId": "6894ace8-2e0e-4bae-dcf1-0d27b9c44317"
      },
      "execution_count": 12,
      "outputs": [
        {
          "output_type": "stream",
          "name": "stdout",
          "text": [
            "   Name Department  Age Gender  Salary  Experience\n",
            "0  John         IT   30   Male   50000           3\n",
            "2   Bob      Sales   25   Male   45000           2\n",
            "4   Tom    Finance   45   Male   70000          10\n"
          ]
        }
      ]
    }
  ]
}
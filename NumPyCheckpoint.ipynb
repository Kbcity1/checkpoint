{
  "nbformat": 4,
  "nbformat_minor": 0,
  "metadata": {
    "colab": {
      "provenance": [],
      "authorship_tag": "ABX9TyO2nPSq5Iu5l42TgLnw4/s3",
      "include_colab_link": true
    },
    "kernelspec": {
      "name": "python3",
      "display_name": "Python 3"
    },
    "language_info": {
      "name": "python"
    }
  },
  "cells": [
    {
      "cell_type": "markdown",
      "metadata": {
        "id": "view-in-github",
        "colab_type": "text"
      },
      "source": [
        "<a href=\"https://colab.research.google.com/github/Kbcity1/checkpoint/blob/master/NumPyCheckpoint.ipynb\" target=\"_parent\"><img src=\"https://colab.research.google.com/assets/colab-badge.svg\" alt=\"Open In Colab\"/></a>"
      ]
    },
    {
      "cell_type": "code",
      "execution_count": 14,
      "metadata": {
        "colab": {
          "base_uri": "https://localhost:8080/"
        },
        "id": "ZyOYQ1lvGYr4",
        "outputId": "7e3145ac-e507-4076-cb83-36a8fcc3e3aa"
      },
      "outputs": [
        {
          "output_type": "stream",
          "name": "stdout",
          "text": [
            "[85 90 88 92 95 80 75 98 89 83]\n"
          ]
        }
      ],
      "source": [
        "# prompt: Create a numpy array called \"grades\" that contains the following grades: [85, 90, 88, 92, 95, 80, 75, 98, 89, 83]\n",
        "\n",
        "import numpy as np\n",
        "grades = np.array([85, 90, 88, 92, 95, 80, 75, 98, 89, 83])\n",
        "print(grades)"
      ]
    },
    {
      "cell_type": "code",
      "source": [
        "# Calculate the mean (average)\n",
        "mean_grade = np.mean(grades)\n",
        "print(f\"Mean grade: \", mean_grade)"
      ],
      "metadata": {
        "colab": {
          "base_uri": "https://localhost:8080/"
        },
        "id": "N9V6uT8aH1I6",
        "outputId": "418c9b5e-e809-4c64-c884-b1433d35db7e"
      },
      "execution_count": 2,
      "outputs": [
        {
          "output_type": "stream",
          "name": "stdout",
          "text": [
            "Mean grade:  87.5\n"
          ]
        }
      ]
    },
    {
      "cell_type": "code",
      "source": [
        "# Calculate the median\n",
        "median_grade = np.median(grades)\n",
        "print(f\"Median grade: \", median_grade)"
      ],
      "metadata": {
        "colab": {
          "base_uri": "https://localhost:8080/"
        },
        "id": "q2fZ8U96IA9-",
        "outputId": "dc38c908-c3e5-4db3-f22d-7e21b3397e16"
      },
      "execution_count": 3,
      "outputs": [
        {
          "output_type": "stream",
          "name": "stdout",
          "text": [
            "Median grade:  88.5\n"
          ]
        }
      ]
    },
    {
      "cell_type": "code",
      "source": [
        "# Calculate the standard deviation\n",
        "std_dev = np.std(grades)\n",
        "print(f\"Standard deviation: \", std_dev)"
      ],
      "metadata": {
        "colab": {
          "base_uri": "https://localhost:8080/"
        },
        "id": "HzSwtpfYKHfk",
        "outputId": "61c84bed-5658-4ba0-9402-39d18e0f55b6"
      },
      "execution_count": 4,
      "outputs": [
        {
          "output_type": "stream",
          "name": "stdout",
          "text": [
            "Standard deviation:  6.591661399070799\n"
          ]
        }
      ]
    },
    {
      "cell_type": "code",
      "source": [
        "#The maximum grade\n",
        "max_grade = np.max(grades)\n",
        "print(f\"Maximum grade: {max_grade}\")"
      ],
      "metadata": {
        "colab": {
          "base_uri": "https://localhost:8080/"
        },
        "id": "2ZqCvxGCKlEA",
        "outputId": "96bb7119-6391-4cb9-e81a-8bf44fcb3487"
      },
      "execution_count": 5,
      "outputs": [
        {
          "output_type": "stream",
          "name": "stdout",
          "text": [
            "Maximum grade: 98\n"
          ]
        }
      ]
    },
    {
      "cell_type": "code",
      "source": [
        "#The minimum grade\n",
        "min_grade = np.min(grades)\n",
        "print(f\"Minimum grade: {min_grade}\")"
      ],
      "metadata": {
        "colab": {
          "base_uri": "https://localhost:8080/"
        },
        "id": "9MBUNYybKqBb",
        "outputId": "d63ac5f3-0e83-4a56-aa95-433d699567ee"
      },
      "execution_count": 6,
      "outputs": [
        {
          "output_type": "stream",
          "name": "stdout",
          "text": [
            "Minimum grade: 75\n"
          ]
        }
      ]
    },
    {
      "cell_type": "code",
      "source": [
        "# Sort the grades in ascending order\n",
        "sorted_grades = np.sort(grades)\n",
        "print(f\"Sorted grades: {sorted_grades}\")"
      ],
      "metadata": {
        "colab": {
          "base_uri": "https://localhost:8080/"
        },
        "id": "R12i5bzMLLjK",
        "outputId": "9c725263-961b-40cf-9e7c-bc8cedf1e3b7"
      },
      "execution_count": 7,
      "outputs": [
        {
          "output_type": "stream",
          "name": "stdout",
          "text": [
            "Sorted grades: [75 80 83 85 88 89 90 92 95 98]\n"
          ]
        }
      ]
    },
    {
      "cell_type": "code",
      "source": [
        "# Find the index of the highest grade\n",
        "highest_index = np.argmax(grades)\n",
        "print(f\"The highest grade is {grades[highest_index]} at index {highest_index}.\")"
      ],
      "metadata": {
        "colab": {
          "base_uri": "https://localhost:8080/"
        },
        "id": "l6HbN646LbEA",
        "outputId": "2765c399-7774-46c9-8a2d-9d4179b92220"
      },
      "execution_count": 8,
      "outputs": [
        {
          "output_type": "stream",
          "name": "stdout",
          "text": [
            "The highest grade is 98 at index 7.\n"
          ]
        }
      ]
    },
    {
      "cell_type": "code",
      "source": [
        "# Count students with scores above 90\n",
        "student_above90 = np.sum(grades > 90)\n",
        "print(f\"Number of students with grade above 90: {student_above90}\")"
      ],
      "metadata": {
        "colab": {
          "base_uri": "https://localhost:8080/"
        },
        "id": "lQbRTiLRL1JV",
        "outputId": "8473c59f-0e09-4534-fbdc-873245310cff"
      },
      "execution_count": 9,
      "outputs": [
        {
          "output_type": "stream",
          "name": "stdout",
          "text": [
            "Number of students with grade above 90: 3\n"
          ]
        }
      ]
    },
    {
      "cell_type": "code",
      "source": [
        "#First we calculate the 90th percentile (score above which 90% of students fall)\n",
        "percentile_90 = np.percentile(grades, 90)\n",
        "\n",
        "#The percentage of students who scored above 90\n",
        "above_90_count = np.sum(grades > 90)\n",
        "total_students = len(grades)\n",
        "percentage_above_90 = (above_90_count / total_students) * 100\n",
        "\n",
        "print(f\"90th percentile score: {percentile_90}\")\n",
        "print(f\"Percentage of students scoring above 90: {percentage_above_90}%\")"
      ],
      "metadata": {
        "colab": {
          "base_uri": "https://localhost:8080/"
        },
        "id": "x573Kq-iM8Vl",
        "outputId": "4123359c-0917-4651-c356-2980fa5be304"
      },
      "execution_count": 10,
      "outputs": [
        {
          "output_type": "stream",
          "name": "stdout",
          "text": [
            "90th percentile score: 95.3\n",
            "Percentage of students scoring above 90: 30.0%\n"
          ]
        }
      ]
    },
    {
      "cell_type": "code",
      "source": [
        "#The 75th percentile\n",
        "percentile_75 = np.percentile(grades, 75)\n",
        "\n",
        "# The percentage of students below 75\n",
        "percentage_below_75 = 100 - (percentile_75 / max(grades)) * 100\n",
        "\n",
        "print(f\"Percentage of students who scored below 75: {percentage_below_75}%\")"
      ],
      "metadata": {
        "colab": {
          "base_uri": "https://localhost:8080/"
        },
        "id": "AiRyqTLIQSmH",
        "outputId": "a54faf36-7424-4d0d-ef2c-8854f4f46c5d"
      },
      "execution_count": 11,
      "outputs": [
        {
          "output_type": "stream",
          "name": "stdout",
          "text": [
            "Percentage of students who scored below 75: 6.632653061224488%\n"
          ]
        }
      ]
    },
    {
      "cell_type": "code",
      "source": [
        "#Grades above 90\n",
        "high_performers = grades[grades > 90]\n",
        "print(\"High performers:\", high_performers)"
      ],
      "metadata": {
        "colab": {
          "base_uri": "https://localhost:8080/"
        },
        "id": "C3qCU-tOSmD0",
        "outputId": "22d1c331-6d6d-4195-ad3b-e30f1f71db28"
      },
      "execution_count": 12,
      "outputs": [
        {
          "output_type": "stream",
          "name": "stdout",
          "text": [
            "High performers: [92 95 98]\n"
          ]
        }
      ]
    },
    {
      "cell_type": "code",
      "source": [
        "#Passing_grades containing grades above 75\n",
        "passing_grades = [grades for grades in grades if grades > 75]\n",
        "print(passing_grades)"
      ],
      "metadata": {
        "colab": {
          "base_uri": "https://localhost:8080/"
        },
        "id": "ZXKxktUwSxsu",
        "outputId": "34d2e40c-1b0f-4c77-a3cf-aee7cec622e4"
      },
      "execution_count": 13,
      "outputs": [
        {
          "output_type": "stream",
          "name": "stdout",
          "text": [
            "[85, 90, 88, 92, 95, 80, 98, 89, 83]\n"
          ]
        }
      ]
    }
  ]
}
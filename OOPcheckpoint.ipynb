{
  "nbformat": 4,
  "nbformat_minor": 0,
  "metadata": {
    "colab": {
      "provenance": [],
      "authorship_tag": "ABX9TyNwq+SB3NAsuRt8iD34tXAP",
      "include_colab_link": true
    },
    "kernelspec": {
      "name": "python3",
      "display_name": "Python 3"
    },
    "language_info": {
      "name": "python"
    }
  },
  "cells": [
    {
      "cell_type": "markdown",
      "metadata": {
        "id": "view-in-github",
        "colab_type": "text"
      },
      "source": [
        "<a href=\"https://colab.research.google.com/github/Kbcity1/checkpoint/blob/master/OOPcheckpoint.ipynb\" target=\"_parent\"><img src=\"https://colab.research.google.com/assets/colab-badge.svg\" alt=\"Open In Colab\"/></a>"
      ]
    },
    {
      "cell_type": "code",
      "execution_count": 1,
      "metadata": {
        "colab": {
          "base_uri": "https://localhost:8080/"
        },
        "id": "bn5Yi8Aw3RZt",
        "outputId": "4b36b254-88c0-441f-9cda-a216188d4900"
      },
      "outputs": [
        {
          "output_type": "stream",
          "name": "stdout",
          "text": [
            "Welcome to Kay's Bank\n",
            "Enter deposite amounts: 5000\n",
            "Deposited $5000. New balance: $5000\n",
            "Enter withdraw amounts: 3000\n",
            "Withdrew $3000. New balance: $2000\n",
            "Enter deposite amounts: 3000\n",
            "Deposited $3000. New balance: $5000\n",
            "Enter withdraw amounts: 5100\n",
            "Insufficient funds for withdrawal.\n",
            "Final balance for Abdullahi Kabiru: $5000\n"
          ]
        }
      ],
      "source": [
        "class Account:\n",
        "    def __init__(self, account_number, account_holder, account_balance=0):\n",
        "        \"\"\"\n",
        "        Initializes an account with an account number, account holder and account balance.\n",
        "        \"\"\"\n",
        "        self.account_number = int(account_number)\n",
        "        self.account_holder = str(account_holder)\n",
        "        self.account_balance = int(account_balance)\n",
        "\n",
        "    def deposit(self, amount):\n",
        "        \"\"\"\n",
        "        Adds the specified amount to the account balance.\n",
        "        \"\"\"\n",
        "        self.amount = int(amount)\n",
        "        if int(amount) > 0:\n",
        "            self.account_balance += int(amount)\n",
        "            print(f\"Deposited ${amount}. New balance: ${self.account_balance}\")\n",
        "        else:\n",
        "            print(\"Invalid deposit amount. Please provide a positive value.\")\n",
        "\n",
        "    def withdraw(self, amount):\n",
        "        \"\"\"\n",
        "        Subtracts the specified amount from the account balance (if sufficient funds).\n",
        "        \"\"\"\n",
        "        self.amount = int(amount)\n",
        "        if int(amount) > 0:\n",
        "            if self.account_balance >= int(amount):\n",
        "                self.account_balance -= int(amount)\n",
        "                print(f\"Withdrew ${amount}. New balance: ${self.account_balance}\")\n",
        "            else:\n",
        "                print(\"Insufficient funds for withdrawal.\")\n",
        "        else:\n",
        "            print(\"Invalid withdrawal amount. Please provide a positive value.\")\n",
        "\n",
        "    def check_balance(self):\n",
        "        \"\"\"\n",
        "        Returns the current account balance.\n",
        "        \"\"\"\n",
        "        return self.account_balance\n",
        "\n",
        "# Create an instance of the Account class\n",
        "my_account = Account(1000, \"Abdullahi Kabiru\")\n",
        "\n",
        "# To Perform some transactions\n",
        "print(\"Welcome to Kay's Bank\")\n",
        "my_account.deposit(input(\"Enter deposite amounts: \"))\n",
        "my_account.withdraw(input(\"Enter withdraw amounts: \"))\n",
        "my_account.deposit(input(\"Enter deposite amounts: \"))\n",
        "my_account.withdraw(input(\"Enter withdraw amounts: \"))\n",
        "\n",
        "# Check the final balance\n",
        "final_balance = my_account.check_balance()\n",
        "print(f\"Final balance for {my_account.account_holder}: ${final_balance}\")"
      ]
    }
  ]
}
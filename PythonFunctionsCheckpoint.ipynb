{
  "nbformat": 4,
  "nbformat_minor": 0,
  "metadata": {
    "colab": {
      "provenance": [],
      "authorship_tag": "ABX9TyMsjzSMJVrM3PHtZpc7wHiX",
      "include_colab_link": true
    },
    "kernelspec": {
      "name": "python3",
      "display_name": "Python 3"
    },
    "language_info": {
      "name": "python"
    }
  },
  "cells": [
    {
      "cell_type": "markdown",
      "metadata": {
        "id": "view-in-github",
        "colab_type": "text"
      },
      "source": [
        "<a href=\"https://colab.research.google.com/github/Kbcity1/checkpoint/blob/master/PythonFunctionsCheckpoint.ipynb\" target=\"_parent\"><img src=\"https://colab.research.google.com/assets/colab-badge.svg\" alt=\"Open In Colab\"/></a>"
      ]
    },
    {
      "cell_type": "code",
      "execution_count": 5,
      "metadata": {
        "colab": {
          "base_uri": "https://localhost:8080/"
        },
        "id": "WHxTn3WFXOEC",
        "outputId": "064f619a-9747-4854-d788-2a497fb8c7ee"
      },
      "outputs": [
        {
          "name": "stdout",
          "output_type": "stream",
          "text": [
            "Enter the first number: 20\n",
            "Choose an operation (+, -, *, /): +\n",
            "Enter the second number: 5\n",
            "Answer: 25.0\n",
            "Do you want to continue with the answer as the first number? (yes/no): yes\n",
            "Choose an operation (+, -, *, /): *\n",
            "Enter the second number: 5\n",
            "Answer: 125.0\n",
            "Do you want to continue with the answer as the first number? (yes/no): no\n"
          ]
        }
      ],
      "source": [
        "def add(a, b):\n",
        "    return a + b\n",
        "\n",
        "def subtract(a, b):\n",
        "    return a - b\n",
        "\n",
        "def multiply(a, b):\n",
        "    return a * b\n",
        "\n",
        "def divide(a, b):\n",
        "    if b != 0:\n",
        "        return a / b\n",
        "    else:\n",
        "        return \"Error: Cannot divide by zero\"\n",
        "\n",
        "# Dictionary to map operation symbols to corresponding functions\n",
        "operations = {\n",
        "    '+': add,\n",
        "    '-': subtract,\n",
        "    '*': multiply,\n",
        "    '/': divide\n",
        "}\n",
        "\n",
        "def calculator():\n",
        "    num1 = float(input(\"Enter the first number: \"))\n",
        "    while True:\n",
        "        operation_symbol = input(\"Choose an operation (+, -, *, /): \")\n",
        "        calculation_function = operations.get(operation_symbol)\n",
        "        if calculation_function:\n",
        "            try:\n",
        "                num2 = float(input(\"Enter the second number: \"))\n",
        "                answer = calculation_function(num1, num2)\n",
        "                print(f\"Answer: {answer}\")\n",
        "                choice = input(\"Do you want to continue with the answer as the first number? (yes/no): \")\n",
        "                if choice.lower() != 'yes':\n",
        "                    break\n",
        "                num1 = answer\n",
        "            except ValueError:\n",
        "                print(\"Invalid input. Please enter a valid number.\")\n",
        "        else:\n",
        "            print(\"Invalid operation symbol. Please choose from +, -, *, /.\")\n",
        "\n",
        "# Example usage:\n",
        "calculator()"
      ]
    }
  ]
}